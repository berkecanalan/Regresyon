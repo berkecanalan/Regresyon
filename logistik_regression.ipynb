{
  "nbformat": 4,
  "nbformat_minor": 0,
  "metadata": {
    "colab": {
      "provenance": [],
      "authorship_tag": "ABX9TyObRuU3cxAFBT2+JJ9rjaKK",
      "include_colab_link": true
    },
    "kernelspec": {
      "name": "python3",
      "display_name": "Python 3"
    },
    "language_info": {
      "name": "python"
    }
  },
  "cells": [
    {
      "cell_type": "markdown",
      "metadata": {
        "id": "view-in-github",
        "colab_type": "text"
      },
      "source": [
        "<a href=\"https://colab.research.google.com/github/berkecanalan/fuel_regression/blob/main/logistik_regression.ipynb\" target=\"_parent\"><img src=\"https://colab.research.google.com/assets/colab-badge.svg\" alt=\"Open In Colab\"/></a>"
      ]
    },
    {
      "cell_type": "code",
      "execution_count": 1,
      "metadata": {
        "colab": {
          "base_uri": "https://localhost:8080/"
        },
        "id": "rIbCQvl21noh",
        "outputId": "e298a842-aba7-4927-a952-00af8b6bdf13"
      },
      "outputs": [
        {
          "output_type": "stream",
          "name": "stdout",
          "text": [
            "Mounted at /content/drive\n"
          ]
        }
      ],
      "source": [
        "from google.colab import drive\n",
        "drive.mount('/content/drive')\n"
      ]
    },
    {
      "cell_type": "code",
      "source": [
        "# 📦 Gerekli kütüphaneleri içe aktar\n",
        "import pandas as pd\n",
        "import numpy as np\n",
        "from sklearn.model_selection import train_test_split\n",
        "from sklearn.preprocessing import StandardScaler\n",
        "from sklearn.linear_model import LogisticRegression\n",
        "from sklearn.metrics import classification_report, confusion_matrix, accuracy_score\n",
        "\n",
        "# 📥 Veriyi yükle (Google Colab veya yerel için uygun yol)\n",
        "df = pd.read_csv(\"/content/drive/My Drive/Colab Notebooks/customer_churn.csv\")  # Drive kullananlar için\n",
        "\n",
        "# 🧹 1. Temizlik: ID sütununu sil\n",
        "df = df.drop(\"customerID\", axis=1)\n",
        "\n",
        "# 🔢 2. Sayısal olmayan 'TotalCharges' sütununu sayıya çevir\n",
        "df[\"TotalCharges\"] = pd.to_numeric(df[\"TotalCharges\"], errors=\"coerce\")\n",
        "\n",
        "# ❌ 3. Eksik verileri temizle\n",
        "df = df.dropna()\n",
        "\n",
        "# 🎯 4. Hedef değişkeni (Churn) sayıya çevir\n",
        "df[\"Churn\"] = df[\"Churn\"].map({\"Yes\": 1, \"No\": 0})\n",
        "\n",
        "# 🧠 5. Kategorik sütunları one-hot encode (get_dummies)\n",
        "df = pd.get_dummies(df, drop_first=True)\n",
        "\n",
        "# 🧾 6. Özellikler (X) ve hedef (y) ayır\n",
        "X = df.drop(\"Churn\", axis=1)\n",
        "y = df[\"Churn\"]\n",
        "\n",
        "# ✂️ 7. Eğitim ve test verisi olarak ayır\n",
        "X_train, X_test, y_train, y_test = train_test_split(X, y, test_size=0.3, random_state=42)\n",
        "\n",
        "# 🔄 8. Özellikleri ölçekle\n",
        "scaler = StandardScaler()\n",
        "X_train_scaled = scaler.fit_transform(X_train)\n",
        "X_test_scaled = scaler.transform(X_test)\n",
        "\n",
        "# 📈 9. Lojistik regresyon modelini oluştur ve eğit\n",
        "model = LogisticRegression(max_iter=1000)\n",
        "model.fit(X_train_scaled, y_train)\n",
        "\n",
        "# 🔍 10. Test verisi ile tahmin yap\n",
        "y_pred = model.predict(X_test_scaled)\n",
        "\n",
        "# 🧾 11. Değerlendirme sonuçları\n",
        "print(\"🔹 Doğruluk Oranı (Accuracy):\", accuracy_score(y_test, y_pred))\n",
        "print(\"\\n🔹 Karışıklık Matrisi (Confusion Matrix):\\n\", confusion_matrix(y_test, y_pred))\n",
        "print(\"\\n🔹 Sınıflandırma Raporu:\\n\", classification_report(y_test, y_pred))\n"
      ],
      "metadata": {
        "colab": {
          "base_uri": "https://localhost:8080/"
        },
        "id": "ssrvhad65HfH",
        "outputId": "27d57d7c-7e96-49a0-ef1d-821d60fb93ce"
      },
      "execution_count": 13,
      "outputs": [
        {
          "output_type": "stream",
          "name": "stdout",
          "text": [
            "🔹 Doğruluk Oranı (Accuracy): 0.795260663507109\n",
            "\n",
            "🔹 Karışıklık Matrisi (Confusion Matrix):\n",
            " [[1377  172]\n",
            " [ 260  301]]\n",
            "\n",
            "🔹 Sınıflandırma Raporu:\n",
            "               precision    recall  f1-score   support\n",
            "\n",
            "           0       0.84      0.89      0.86      1549\n",
            "           1       0.64      0.54      0.58       561\n",
            "\n",
            "    accuracy                           0.80      2110\n",
            "   macro avg       0.74      0.71      0.72      2110\n",
            "weighted avg       0.79      0.80      0.79      2110\n",
            "\n"
          ]
        }
      ]
    }
  ]
}